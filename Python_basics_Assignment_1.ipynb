{
  "nbformat": 4,
  "nbformat_minor": 0,
  "metadata": {
    "colab": {
      "provenance": []
    },
    "kernelspec": {
      "name": "python3",
      "display_name": "Python 3"
    },
    "language_info": {
      "name": "python"
    }
  },
  "cells": [
    {
      "cell_type": "markdown",
      "source": [
        "#1. What is Python, and why is it popular?\n",
        "\n",
        "Ans----\n",
        "      Python is a high-level, interpreted programming language known for its simplicity and readability.Its is popular for its key functionalities like easy to learn and use, its an open source, versatility, large community and resources,extensive libraries and frameworks, popularity in data science and cross platform."
      ],
      "metadata": {
        "id": "kJj7NngASE76"
      }
    },
    {
      "cell_type": "markdown",
      "source": [
        "# 2. What is an interpreter in Python?\n",
        "Ans--- An interpreter is a program that executes Python code directly, without requiring it to be compiled into machine code. Interpreter converts code that we write into language that computer can understand.\n",
        "\n",
        "  The characteristics/advantages of an interpreter are:\n",
        "  1.Line-by-Line Execution.\n",
        "  2.No Compilation Step.\n",
        "  3.Dynamic typing.\n",
        "\n"
      ],
      "metadata": {
        "id": "cBPBce_fS42z"
      }
    },
    {
      "cell_type": "markdown",
      "source": [
        "# 3. What are pre-defined keywords in Python?\n",
        "Ans--- Pre-defined keywords means keywords that already defined in python language to some special functions. For ex-in, while, for,if,else,true,false, etc.\n"
      ],
      "metadata": {
        "id": "XB2Dkg-gULn7"
      }
    },
    {
      "cell_type": "markdown",
      "source": [
        "# 4. Can keywords be used as variable names?\n",
        "Ans---  No, we can not use keywords as a variable name.Because keywords are specially reserved for some  functions in python programming language. And if we still use kayword as variable then it shows syntax error."
      ],
      "metadata": {
        "id": "gL7DgYwnVcPC"
      }
    },
    {
      "cell_type": "markdown",
      "source": [
        "# 5. What is mutability in Python?\n",
        "Ans--- Mutability in Python means  the ability of an object to be changed or modified after it was created. In Python there are two types of objects mutable and immutable. Some mutable data structures are lists,sets and dictionaries."
      ],
      "metadata": {
        "id": "gjBfK2g9WKDx"
      }
    },
    {
      "cell_type": "markdown",
      "source": [
        "# 6. Why are lists mutable, but tuples are immutable?\n",
        "\n",
        "  Ans--- Lists are mutable because they have flexible containers that allow them to modify. Lists could be updated or modified after their creation.\n",
        "  Tuples are immutable to provide fix stucture of data that can not be modified.\n",
        "  Ensuring their reliability and safety.\n"
      ],
      "metadata": {
        "id": "G6DmeXqCW6nU"
      }
    },
    {
      "cell_type": "markdown",
      "source": [
        "# 7. What is the difference between “==” and “is” operators in Python?\n",
        "\n",
        "  Ans--- The (==) known for equality operator. It ued to check two values or objects are equal or not. If the value are same then it shows TRUE otherwise it will show FALSE.\n",
        "\n",
        "  The (is) operator known as identity operator. It is used to check two objects are reffer to the same memory location or not. It compares the identity of the objects not their values."
      ],
      "metadata": {
        "id": "oNsqZviTYVdR"
      }
    },
    {
      "cell_type": "markdown",
      "source": [
        "# 8. What are logical operators in Python?\n",
        " Ans--- Logical operators are used to evaluate multiple conditions and determine if an expression is true or false. Logical operator in python are AND, OR, NOT."
      ],
      "metadata": {
        "id": "uYK9n3xoaBaZ"
      }
    },
    {
      "cell_type": "markdown",
      "source": [
        "# 9. What is type casting in Python?\n",
        "Ans--- Type casting, also referred to as type conversion. Type casting in python is used to convert one data type into another data type. Type casting is used to ensure that correct data type is used in some functions. Python provides built-in functions for type casting, such as int(), float(), str(), list(), tuple(), dict(), etc.\n",
        "\n",
        "\n",
        "Types of type casting--\n",
        "1-Implicit type casting\n",
        "2-Explicit type casting"
      ],
      "metadata": {
        "id": "XQ45oKpna6Ks"
      }
    },
    {
      "cell_type": "markdown",
      "source": [
        "# 10. What is the difference between implicit and explicit type casting?\n",
        "Ans--- Implicit type casting is automatically converts one data type to another, while explicit type casting is required manually converts one data type to another."
      ],
      "metadata": {
        "id": "YodMx3XCcXmL"
      }
    },
    {
      "cell_type": "markdown",
      "source": [
        "# 11. What is the purpose of conditional statements in Python?\n",
        " Ans--- Conditional statements are used in python to execute code based on the evaluation of one or more conditions. Python supports conditional statements such as if, elif (else if), and else to control the flow of execution.\n"
      ],
      "metadata": {
        "id": "-B0_QkDAdGwi"
      }
    },
    {
      "cell_type": "markdown",
      "source": [
        "# 12. How does the elif statement work?\n",
        "Ans--- The elif (\"else if\") statement in Python is used to check multiple conditions in a sequencial manner.  It allows you to evaluate code if the given condition is true or it will check ferther condition in case of (\"if else if\").\n",
        "\n",
        "Ex-\n",
        "if score >=90:\n",
        "  print(\"A\")\n",
        "elif score == 80:\n",
        "    print(\"B\")\n",
        "elif score <= 70:\n",
        "      print(\"C\")\n",
        "else:\n",
        "        print(\"Fail\")\n",
        "Explaination--\n",
        "  If the score of a student is above or equal to 90 then it will give them grade \"A\", elseit will check second condion and the score is equal to 80 then it will give them grade \"B\", if the score doesnot match above both conditions then it will check condition third, and if thats true then it will give them \"C\" grade, and score does not match any of the condition then it will show as a \"FAIL\"."
      ],
      "metadata": {
        "id": "WB4e0dyDf9hi"
      }
    },
    {
      "cell_type": "markdown",
      "source": [
        "# 13. What is the difference between for and while loops?\n",
        "  Ans--- FOR loop is used to print a sequence of element for ex numbers, alphabet or something else that could be printed in a sequencial.\n",
        "\n",
        "  WHILE loop is used to executing code until a specified condition becomes False."
      ],
      "metadata": {
        "id": "fiJYxJJAkQyq"
      }
    },
    {
      "cell_type": "markdown",
      "source": [
        "# 14. Describe a scenario where a while loop is more suitable than a for loop.\n",
        "Ans--- A while loop is more convinient when we don't know in advancehow many  the numbers of iteration gonna execute. It will execute untill it will met false condition."
      ],
      "metadata": {
        "id": "jP-7lfJ4lg5W"
      }
    },
    {
      "cell_type": "markdown",
      "source": [
        "### *Practical Questions*\n",
        "\n",
        "\n"
      ],
      "metadata": {
        "id": "J31mxR5Wmnfz"
      }
    },
    {
      "cell_type": "code",
      "source": [
        "# 1. Write a Python program to print \"Hello, World!\"\n",
        "print(\"Hello, World!\")\n"
      ],
      "metadata": {
        "colab": {
          "base_uri": "https://localhost:8080/"
        },
        "id": "UDDetN-Umemy",
        "outputId": "c2570058-76e1-47a6-ee8a-dc85b06733f4"
      },
      "execution_count": null,
      "outputs": [
        {
          "output_type": "stream",
          "name": "stdout",
          "text": [
            "Hello, World!\n"
          ]
        }
      ]
    },
    {
      "cell_type": "code",
      "source": [
        "# 2.  Write a Python program that displays your name and age\n",
        "name = \"Ubed Maner\"\n",
        "age = 23\n",
        "print(\"Name: \",name)\n",
        "print(\"Age: \",age)"
      ],
      "metadata": {
        "colab": {
          "base_uri": "https://localhost:8080/"
        },
        "id": "vNRApYbwnzDQ",
        "outputId": "eddf0031-3b4f-454c-ccac-7c4d7fdbe906"
      },
      "execution_count": null,
      "outputs": [
        {
          "output_type": "stream",
          "name": "stdout",
          "text": [
            "Name:  Ubed Maner\n",
            "Age:  23\n"
          ]
        }
      ]
    },
    {
      "cell_type": "code",
      "source": [
        "# 3.  Write code to print all the pre-defined keywords in Python using the keyword library.\n",
        "import keyword\n",
        "print(keyword.kwlist)\n",
        "\n"
      ],
      "metadata": {
        "colab": {
          "base_uri": "https://localhost:8080/"
        },
        "id": "KSsFalghn_72",
        "outputId": "46d69747-ffbd-4e73-bef6-eb456c0beda9"
      },
      "execution_count": null,
      "outputs": [
        {
          "output_type": "stream",
          "name": "stdout",
          "text": [
            "['False', 'None', 'True', 'and', 'as', 'assert', 'async', 'await', 'break', 'class', 'continue', 'def', 'del', 'elif', 'else', 'except', 'finally', 'for', 'from', 'global', 'if', 'import', 'in', 'is', 'lambda', 'nonlocal', 'not', 'or', 'pass', 'raise', 'return', 'try', 'while', 'with', 'yield']\n"
          ]
        }
      ]
    },
    {
      "cell_type": "code",
      "source": [
        "# 4. Write a program that checks if a given word is a Python keyword\n",
        "import keyword\n",
        "def check_keyword(word):\n",
        "    if keyword.iskeyword(word):\n",
        "        print(f\"'{word}' is a Python keyword.\")\n",
        "    else:\n",
        "        print(f\"'{word}' is not a Python keyword.\")\n",
        "\n",
        "word = input(\"Enter a word to check: \")\n",
        "check_keyword(word)\n"
      ],
      "metadata": {
        "colab": {
          "base_uri": "https://localhost:8080/"
        },
        "id": "TUwxJa2RoN4M",
        "outputId": "513eed25-da08-4106-e4ad-b61a6f202218"
      },
      "execution_count": null,
      "outputs": [
        {
          "output_type": "stream",
          "name": "stdout",
          "text": [
            "Enter a word to check: in\n",
            "'in' is a Python keyword.\n"
          ]
        }
      ]
    },
    {
      "cell_type": "code",
      "source": [
        "#5.Create a list and tuple in Python, and demonstrate how attempting to change an element works differently for each.\n",
        "\n",
        "list = [1, 2, 3, 4, 5]\n",
        "tuple = (1, 2, 3, 4, 5)\n",
        "print(\"my_list\", list)\n",
        "# Attempting to change an element in a list\n",
        "list[0] = 10\n",
        "list[4] = 25\n",
        "print(\"Modified_list\",list)\n",
        "\n",
        "print(\"my_tuple\", tuple)\n",
        "# Attempting to change an element in a tuple\n",
        "tuple[0] = 10\n",
        "tuple[4] = 25\n",
        "print(\"Modified_tuple\",tuple)"
      ],
      "metadata": {
        "id": "dGM6vtoUpsU2"
      },
      "execution_count": null,
      "outputs": []
    },
    {
      "cell_type": "code",
      "source": [
        "#6.Write a function to demonstrate the behavior of mutable and immutable arguments.\n",
        "\n",
        "# Immutable Objects tuple\n",
        "tuple = (0, 1, 2, 3)\n",
        "tuple[0] = 4\n",
        "print(tuple)\n",
        "\n",
        "# strings are immutable\n",
        "\n",
        "message = \"Welcome to pwskills\"\n",
        "message[0] = 'p'\n",
        "print(message)\n",
        "\n",
        "# Mutable\n",
        "#list\n",
        "my_list = [1, 2, 3]\n",
        "my_list.append(4)\n",
        "print(my_list)\n",
        "\n"
      ],
      "metadata": {
        "id": "l0cDaSp8quKY"
      },
      "execution_count": null,
      "outputs": []
    },
    {
      "cell_type": "code",
      "source": [
        "#7.Write a function to demonstrate the behavior of mutable and immutable arguments.\n",
        "\n",
        "# Immutable Objects tuple\n",
        "tuple = (0, 1, 2, 3)\n",
        "tuple[0] = 4\n",
        "print(tuple)\n",
        "\n",
        "# strings are immutable\n",
        "\n",
        "message = \"Welcome to pwskills\"\n",
        "message[0] = 'p'\n",
        "print(message)\n",
        "\n",
        "# Mutable\n",
        "#list\n",
        "my_list = [1, 2, 3]\n",
        "my_list.append(4)\n",
        "print(my_list)\n",
        "\n"
      ],
      "metadata": {
        "id": "21RqWPE-uWni"
      },
      "execution_count": null,
      "outputs": []
    },
    {
      "cell_type": "code",
      "source": [
        "#8.Write a program to demonstrate the use of logical operators.\n",
        "#AND operator\n",
        "\n",
        "a=30\n",
        "b=20\n",
        "c=10\n",
        "if (a>b)and (a>c):\n",
        " print(\"a is the greatest number\")\n",
        "elif (b>a)and (b>c):\n",
        "  print(\"b is the greatest number\")\n",
        "else:\n",
        "  print(\"c is the greatest number\")\n",
        "\n",
        "\n",
        "#OR operator.\n",
        "\n",
        "a=30\n",
        "b=20\n",
        "c=10\n",
        "if (a>b)or (a>c):\n",
        "  print(\"a is the greatest number\")\n",
        "elif (b>a)or (b>c):\n",
        "    print(\"b is the greatest number\")\n",
        "else:\n",
        "    print(\"c is the greatest number\")\n",
        "\n",
        "\n",
        "# NOT operator\n",
        "a=True\n",
        "if not a:\n",
        "  print(\"a is false\")"
      ],
      "metadata": {
        "colab": {
          "base_uri": "https://localhost:8080/"
        },
        "id": "H_WtqrFyuq-w",
        "outputId": "a4eec696-755b-4ad7-dfc9-4683a710c244"
      },
      "execution_count": null,
      "outputs": [
        {
          "output_type": "stream",
          "name": "stdout",
          "text": [
            "a is the greatest number\n",
            "a is the greatest number\n"
          ]
        }
      ]
    },
    {
      "cell_type": "code",
      "source": [
        "#9. Write a Python program to convert user input from string to integer, float, and boolean types.\n",
        "user_input = input(\"Enter something:\")\n",
        "usr_intinput = int(user_input)\n",
        "type(user_input)\n",
        "print(\"Type of input:\",type(user_input))\n",
        "print(\"Conversion in integer:\",usr_intinput)\n",
        "usr_floatinput = float(user_input)\n",
        "print(\"Conversion in float:\",usr_floatinput)\n",
        "usr_boolinput = bool(user_input)\n",
        "print(\"Conversion in boolean:\",usr_boolinput)"
      ],
      "metadata": {
        "colab": {
          "base_uri": "https://localhost:8080/"
        },
        "id": "hixm8rs-xsjU",
        "outputId": "fa8cc4c4-3b62-42be-ef17-2bfc99d58c98"
      },
      "execution_count": null,
      "outputs": [
        {
          "output_type": "stream",
          "name": "stdout",
          "text": [
            "Enter something:12\n",
            "Type of input: <class 'str'>\n",
            "Conversion in integer: 12\n",
            "Conversion in float: 12.0\n",
            "Conversion in boolean: True\n"
          ]
        }
      ]
    },
    {
      "cell_type": "code",
      "source": [
        "#10. Write code to demonstrate type casting with list elements.\n",
        "# Creating a list with different data types\n",
        "my_list = [\"123\", \"45.67\", \"True\", \"92\"]\n",
        "print(\"Original list:\", my_list)\n",
        "# Convert all elements to integers\n",
        "int_list = []\n",
        "for x in my_list:\n",
        "    try:\n",
        "        int_list.append(int(float(x)))\n",
        "    except ValueError:\n",
        "        int_list.append(0)\n",
        "print(\"List after converting elements to integers:\", int_list)\n",
        "# Convert all elements to floats\n",
        "float_list = []\n",
        "for x in my_list:\n",
        "    try:\n",
        "        float_list.append(float(x))\n",
        "    except ValueError:\n",
        "        float_list.append(0.0)\n",
        "print(\"List after converting elements to floats:\", float_list)\n",
        "# Convert all elements to booleans\n",
        "bool_list = []\n",
        "for x in my_list:\n",
        "    bool_list.append(bool(x))\n",
        "print(\"List after converting elements to booleans:\", bool_list)\n",
        "# Convert all elements to strings (in case of mixed types)\n",
        "str_list = []\n",
        "for x in my_list:\n",
        "    str_list.append(str(x))\n",
        "print(\"List after converting elements to strings:\", str_list)"
      ],
      "metadata": {
        "colab": {
          "base_uri": "https://localhost:8080/"
        },
        "id": "rBuOFZKhy2KJ",
        "outputId": "372fbacd-d243-4cae-a8be-78ec85e66550"
      },
      "execution_count": null,
      "outputs": [
        {
          "output_type": "stream",
          "name": "stdout",
          "text": [
            "Original list: ['123', '45.67', 'True', '92']\n",
            "List after converting elements to integers: [123, 45, 0, 92]\n",
            "List after converting elements to floats: [123.0, 45.67, 0.0, 92.0]\n",
            "List after converting elements to booleans: [True, True, True, True]\n",
            "List after converting elements to strings: ['123', '45.67', 'True', '92']\n"
          ]
        }
      ]
    },
    {
      "cell_type": "code",
      "source": [
        "#11. Write a program that checks if a number is positive, negative, or zero.\n",
        "def check_number(num):\n",
        "    if num > 0:\n",
        "        return \"The number is positive.\"\n",
        "    elif num < 0:\n",
        "        return \"The number is negative.\"\n",
        "    else:\n",
        "        return \"The number is zero.\"\n",
        "number = float(input(\"Enter a number: \"))\n",
        "print(check_number(number))"
      ],
      "metadata": {
        "colab": {
          "base_uri": "https://localhost:8080/"
        },
        "id": "w_vUCkZlzrjh",
        "outputId": "44173a30-0de5-4210-8807-5c48103f7eb7"
      },
      "execution_count": null,
      "outputs": [
        {
          "output_type": "stream",
          "name": "stdout",
          "text": [
            "Enter a number: -3\n",
            "The number is negative.\n"
          ]
        }
      ]
    },
    {
      "cell_type": "code",
      "source": [
        "#12. Write a for loop to print numbers from 1 to 10.\n",
        "for i in range(1, 11):\n",
        "    print(i)"
      ],
      "metadata": {
        "colab": {
          "base_uri": "https://localhost:8080/"
        },
        "id": "-Y-Ryt33z21d",
        "outputId": "67918e59-7a93-43d7-d1ee-f3147009889f"
      },
      "execution_count": null,
      "outputs": [
        {
          "output_type": "stream",
          "name": "stdout",
          "text": [
            "1\n",
            "2\n",
            "3\n",
            "4\n",
            "5\n",
            "6\n",
            "7\n",
            "8\n",
            "9\n",
            "10\n"
          ]
        }
      ]
    },
    {
      "cell_type": "code",
      "source": [
        "#13. Write a Python program to find the sum of all even numbers between 1 and 50.\n",
        "sum_of_even_numbers = 0\n",
        "for i in range(1, 51):\n",
        "    if i % 2 == 0:\n",
        "        sum_of_even_numbers += i\n",
        "print(\"The sum of all even numbers between 1 and 50 is:\", sum_of_even_numbers)"
      ],
      "metadata": {
        "colab": {
          "base_uri": "https://localhost:8080/"
        },
        "id": "h1dWFqKw0AKy",
        "outputId": "59d1ef1f-d225-483f-db08-f21ea68cd39c"
      },
      "execution_count": null,
      "outputs": [
        {
          "output_type": "stream",
          "name": "stdout",
          "text": [
            "The sum of all even numbers between 1 and 50 is: 650\n"
          ]
        }
      ]
    },
    {
      "cell_type": "code",
      "source": [
        "#14.Write a program to reverse a string using a while loop.\n",
        "def reverse_string(input_string):\n",
        "    reversed_string = \"\"\n",
        "    index = len(input_string) - 1\n",
        "    while index >= 0:\n",
        "        reversed_string += input_string[index]\n",
        "        index -= 1\n",
        "    return reversed_string\n",
        "string = input(\"Enter a string: \")\n",
        "print(\"Reversed string:\", reverse_string(string))"
      ],
      "metadata": {
        "colab": {
          "base_uri": "https://localhost:8080/"
        },
        "id": "Xne1eHOg0B5p",
        "outputId": "4d0e4cf6-be9a-4640-8a4e-53b3c08292f8"
      },
      "execution_count": null,
      "outputs": [
        {
          "output_type": "stream",
          "name": "stdout",
          "text": [
            "Enter a string: ubed\n",
            "Reversed string: debu\n"
          ]
        }
      ]
    },
    {
      "cell_type": "code",
      "source": [
        "#15. Write a Python program to calculate the factorial of a number provided by the user using a while loop.\n",
        "def factorial(n):\n",
        "    result = 1\n",
        "    while n > 1:\n",
        "        result *= n\n",
        "        n -= 1\n",
        "    return result\n",
        "number = int(input(\"Enter a number to calculate its factorial: \"))\n",
        "if number < 0:\n",
        "    print(\"Factorial is not defined for negative numbers.\")\n",
        "else:\n",
        "    print(f\"The factorial of {number} is: {factorial(number)}\")"
      ],
      "metadata": {
        "colab": {
          "base_uri": "https://localhost:8080/"
        },
        "id": "_JRwmQLf0PtS",
        "outputId": "ec41d9a6-f6a4-4b87-ad86-0fbc0ce3b082"
      },
      "execution_count": null,
      "outputs": [
        {
          "output_type": "stream",
          "name": "stdout",
          "text": [
            "Enter a number to calculate its factorial: 14\n",
            "The factorial of 14 is: 87178291200\n"
          ]
        }
      ]
    }
  ]
}